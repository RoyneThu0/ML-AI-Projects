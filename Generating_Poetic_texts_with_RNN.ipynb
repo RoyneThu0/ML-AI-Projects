{
  "nbformat": 4,
  "nbformat_minor": 0,
  "metadata": {
    "colab": {
      "provenance": []
    },
    "kernelspec": {
      "name": "python3",
      "display_name": "Python 3"
    },
    "language_info": {
      "name": "python"
    }
  },
  "cells": [
    {
      "cell_type": "code",
      "execution_count": null,
      "metadata": {
        "id": "soVZ-jhsk86K"
      },
      "outputs": [],
      "source": []
    },
    {
      "cell_type": "code",
      "source": [
        "import random\n",
        "import numpy as np\n",
        "import tensorflow as tf\n",
        "from tensorflow.keras.models import Sequential\n",
        "from tensorflow.keras.layers import LSTM, Dense, Activation\n",
        "from tensorflow.keras.optimizers import RMSprop\n"
      ],
      "metadata": {
        "id": "WgTapYkolUpf"
      },
      "execution_count": 1,
      "outputs": []
    },
    {
      "cell_type": "code",
      "source": [
        "filepath = tf.keras.utils.get_file('shakespeare.txt',\n",
        "        'https://storage.googleapis.com/download.tensorflow.org/data/shakespeare.txt')\n",
        "text = open(filepath, 'rb').read().decode(encoding='utf-8').lower()"
      ],
      "metadata": {
        "colab": {
          "base_uri": "https://localhost:8080/"
        },
        "id": "ukWL1NKCmJB2",
        "outputId": "bbedc13e-258e-47d1-83d2-40142313f3dc"
      },
      "execution_count": 2,
      "outputs": [
        {
          "output_type": "stream",
          "name": "stdout",
          "text": [
            "Downloading data from https://storage.googleapis.com/download.tensorflow.org/data/shakespeare.txt\n",
            "1115394/1115394 [==============================] - 0s 0us/step\n"
          ]
        }
      ]
    },
    {
      "cell_type": "code",
      "source": [
        "# convert text to unique numerical represenataion\n",
        "\n",
        "text = text[300000:800000]\n",
        "characters = sorted(set(text))\n",
        "\n",
        "char_to_index = dict((c, i) for i, c in enumerate(characters))\n",
        "index_to_char = dict((i, c) for i, c in enumerate(characters))\n",
        "\n",
        "seq_length = 40\n",
        "step_length = 3\n",
        "\n",
        "#create mapping\n",
        "sentences = []\n",
        "next_chars = []\n",
        "\n",
        "\n",
        "for i in range(0, len(text) - seq_length, step_length):\n",
        "    sentences.append(text[i: i + seq_length])\n",
        "    next_chars.append(text[i + seq_length])\n",
        "\n"
      ],
      "metadata": {
        "id": "GqUh5mhOou2h"
      },
      "execution_count": 3,
      "outputs": []
    },
    {
      "cell_type": "code",
      "source": [
        "x = np.zeros((len(sentences), seq_length, len(characters)), dtype=bool) # Use bool instead of np.bool\n",
        "y = np.zeros((len(sentences),len(characters)), dtype=bool) # Use bool instead of np.bool\n",
        "\n",
        "\n",
        "for i, sentence in enumerate(sentences):\n",
        "    for t, character in enumerate(sentence):\n",
        "        x[i, t, char_to_index[character]] = 1\n",
        "        y[i, char_to_index[next_chars[i]]] = 1\n",
        "\n",
        "\n",
        "# Define the model\n",
        "model = Sequential()\n",
        "model.add(LSTM(128, input_shape=(seq_length, len(characters))))\n",
        "model.add(Dense(len(characters)))\n",
        "model.add(Activation('softmax'))\n",
        "\n",
        "# Compile the model\n",
        "optimizer = RMSprop(learning_rate=0.01)\n",
        "model.compile(loss='categorical_crossentropy', optimizer=optimizer)\n",
        "\n",
        "# Train the model (this may take a while)\n",
        "model.fit(x, y, batch_size=128, epochs=5)\n",
        "\n",
        "# Save the model\n",
        "model.save('textgenerator.model')\n",
        "\n",
        "def sample(preds, temperature=1.0):\n",
        "    preds = np.asarray(preds).astype('float64')\n",
        "    preds = np.log(preds) / temperature\n",
        "    exp_preds = np.exp(preds)\n",
        "    preds = exp_preds / np.sum(exp_preds)\n",
        "    probas = np.random.multinomial(1, preds, 1)\n",
        "    return np.argmax(probas)\n",
        "\n",
        "def generate_text(length, temperature=1.0):\n",
        "    start_index = random.randint(0, len(text) - seq_length - 1)\n",
        "    generated_text= ''\n",
        "    generated_text = text[start_index: start_index + seq_length]\n",
        "    generated_text += sentence\n",
        "    for i in range(length):\n",
        "        x = np.zeros((1, seq_length, len(characters)))\n",
        "        for t, character in enumerate(generated_text):\n",
        "          x[0, t, char_to_index[character]] = 1\n",
        "\n",
        "        predictions = model.predict(x, verbose=0)[0]\n",
        "        next_index = sample(predictions, temperature)\n",
        "        next_char = index_to_char[next_index]\n",
        "\n",
        "        generated_text += next_char\n",
        "        sentence = sentence[1:] + next_char\n",
        "    return generated_text\n",
        "\n",
        "    print('--------0.2--------')\n",
        "    print(generated_text(300,0.2))\n",
        "    print('--------0.4--------')\n",
        "    print(generated_text(300,0.4))\n",
        "    print('--------0.6--------')\n",
        "    print(generated_text(300,0.6))\n",
        "    print('--------0.8--------')\n",
        "    print(generated_text(300,0.8))\n",
        "    print('--------1--------')\n",
        "    print(generated_text(300,1))\n",
        "\n"
      ],
      "metadata": {
        "id": "qGoZMCmxugFh",
        "colab": {
          "base_uri": "https://localhost:8080/"
        },
        "outputId": "a25791f1-ee12-4b7f-a51e-94897301600f"
      },
      "execution_count": 4,
      "outputs": [
        {
          "output_type": "stream",
          "name": "stdout",
          "text": [
            "Epoch 1/5\n",
            "1302/1302 [==============================] - 148s 112ms/step - loss: 2.0354\n",
            "Epoch 2/5\n",
            "1302/1302 [==============================] - 146s 112ms/step - loss: 1.6657\n",
            "Epoch 3/5\n",
            "1302/1302 [==============================] - 148s 114ms/step - loss: 1.5661\n",
            "Epoch 4/5\n",
            "1302/1302 [==============================] - 150s 115ms/step - loss: 1.5114\n",
            "Epoch 5/5\n",
            "1302/1302 [==============================] - 147s 113ms/step - loss: 1.4749\n"
          ]
        }
      ]
    },
    {
      "cell_type": "code",
      "source": [],
      "metadata": {
        "id": "F2OwIo8H7qEZ"
      },
      "execution_count": null,
      "outputs": []
    }
  ]
}